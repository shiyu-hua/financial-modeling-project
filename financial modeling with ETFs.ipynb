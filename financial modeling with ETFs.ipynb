{
 "cells": [
  {
   "cell_type": "markdown",
   "metadata": {},
   "source": [
    "## Shiyu's Notebook for beta weighting model and mean variance optimization model for constructing a portfolio. ##\n",
    "The new portfolio is constructed of 3 ETFs with an initial investment of $200. \n",
    "Use time-series-data from Feburary 2020 to Feburary 2021. "
   ]
  },
  {
   "cell_type": "markdown",
   "metadata": {},
   "source": [
    "The goal is to use beta weighting model with python codes to calculate the weighted beta for each ETF with a targeted beta to reduce portfolio risk. The mean variance optimization tells the expected return for the portfolio and optimize the return and minimize the risks. "
   ]
  },
  {
   "cell_type": "markdown",
   "metadata": {},
   "source": [
    "First of all, import all the coding and visualization packages needed. "
   ]
  },
  {
   "cell_type": "code",
   "execution_count": 1,
   "metadata": {},
   "outputs": [],
   "source": [
    "import pandas as pd\n",
    "import numpy as np\n",
    "from sklearn.linear_model import LinearRegression\n",
    "import matplotlib.pyplot as plt\n",
    "%matplotlib inline\n",
    "regr = LinearRegression()\n",
    "from scipy.optimize import minimize"
   ]
  },
  {
   "cell_type": "code",
   "execution_count": 2,
   "metadata": {},
   "outputs": [],
   "source": [
    "from pandas.plotting import register_matplotlib_converters\n",
    "register_matplotlib_converters()"
   ]
  },
  {
   "cell_type": "code",
   "execution_count": 3,
   "metadata": {},
   "outputs": [],
   "source": [
    "plt.rcParams['figure.figsize'] = [15,12]"
   ]
  },
  {
   "cell_type": "markdown",
   "metadata": {},
   "source": [
    "The three ETFs are \"Global X Robotics & Artificial Intelligence ETF\", \"Global X Funds Global X Autonomous & Electric Vehicles ETF\", and \"SPDR Portfolio S&P 500 Growth ETF\". I chose them because of the growth opportunities and potential in those industries. "
   ]
  },
  {
   "cell_type": "markdown",
   "metadata": {},
   "source": [
    "The data source is from Yahoo Finance, and stored in the file of \"stocks\". Use S&P 500 index as the benchmark for modeling. "
   ]
  },
  {
   "cell_type": "code",
   "execution_count": 4,
   "metadata": {},
   "outputs": [],
   "source": [
    "etf_list = 'botz driv spyg spy'.upper().split()"
   ]
  },
  {
   "cell_type": "code",
   "execution_count": 5,
   "metadata": {},
   "outputs": [],
   "source": [
    "etf_data = []\n",
    "for etf in etf_list: \n",
    "    df = pd.read_csv('C:/Users/HUA_SHIY/stocks/{}.csv'.format(etf))\n",
    "    etf_data.append(df['Adj Close'])\n",
    "    etf_prices = pd.DataFrame(etf_data).T\n",
    "    etf_prices.index = df['Date']"
   ]
  },
  {
   "cell_type": "code",
   "execution_count": 6,
   "metadata": {},
   "outputs": [
    {
     "data": {
      "text/html": [
       "<div>\n",
       "<style scoped>\n",
       "    .dataframe tbody tr th:only-of-type {\n",
       "        vertical-align: middle;\n",
       "    }\n",
       "\n",
       "    .dataframe tbody tr th {\n",
       "        vertical-align: top;\n",
       "    }\n",
       "\n",
       "    .dataframe thead th {\n",
       "        text-align: right;\n",
       "    }\n",
       "</style>\n",
       "<table border=\"1\" class=\"dataframe\">\n",
       "  <thead>\n",
       "    <tr style=\"text-align: right;\">\n",
       "      <th></th>\n",
       "      <th>BOTZ</th>\n",
       "      <th>DRIV</th>\n",
       "      <th>SPYG</th>\n",
       "      <th>SPY</th>\n",
       "    </tr>\n",
       "    <tr>\n",
       "      <th>Date</th>\n",
       "      <th></th>\n",
       "      <th></th>\n",
       "      <th></th>\n",
       "      <th></th>\n",
       "    </tr>\n",
       "  </thead>\n",
       "  <tbody>\n",
       "    <tr>\n",
       "      <td>2020-02-05</td>\n",
       "      <td>22.389015</td>\n",
       "      <td>15.400795</td>\n",
       "      <td>43.848541</td>\n",
       "      <td>326.757843</td>\n",
       "    </tr>\n",
       "    <tr>\n",
       "      <td>2020-02-06</td>\n",
       "      <td>22.478771</td>\n",
       "      <td>15.431658</td>\n",
       "      <td>44.145081</td>\n",
       "      <td>327.857330</td>\n",
       "    </tr>\n",
       "    <tr>\n",
       "      <td>2020-02-07</td>\n",
       "      <td>22.179585</td>\n",
       "      <td>15.132980</td>\n",
       "      <td>43.907845</td>\n",
       "      <td>326.109955</td>\n",
       "    </tr>\n",
       "    <tr>\n",
       "      <td>2020-02-10</td>\n",
       "      <td>22.518661</td>\n",
       "      <td>15.307209</td>\n",
       "      <td>44.421852</td>\n",
       "      <td>328.544495</td>\n",
       "    </tr>\n",
       "    <tr>\n",
       "      <td>2020-02-11</td>\n",
       "      <td>22.867712</td>\n",
       "      <td>15.521261</td>\n",
       "      <td>44.382317</td>\n",
       "      <td>329.113861</td>\n",
       "    </tr>\n",
       "    <tr>\n",
       "      <td>...</td>\n",
       "      <td>...</td>\n",
       "      <td>...</td>\n",
       "      <td>...</td>\n",
       "      <td>...</td>\n",
       "    </tr>\n",
       "    <tr>\n",
       "      <td>2021-01-29</td>\n",
       "      <td>33.849998</td>\n",
       "      <td>25.900000</td>\n",
       "      <td>55.040001</td>\n",
       "      <td>370.070007</td>\n",
       "    </tr>\n",
       "    <tr>\n",
       "      <td>2021-02-01</td>\n",
       "      <td>34.580002</td>\n",
       "      <td>26.600000</td>\n",
       "      <td>56.240002</td>\n",
       "      <td>376.230011</td>\n",
       "    </tr>\n",
       "    <tr>\n",
       "      <td>2021-02-02</td>\n",
       "      <td>35.070000</td>\n",
       "      <td>26.959999</td>\n",
       "      <td>57.070000</td>\n",
       "      <td>381.549988</td>\n",
       "    </tr>\n",
       "    <tr>\n",
       "      <td>2021-02-03</td>\n",
       "      <td>34.869999</td>\n",
       "      <td>27.160000</td>\n",
       "      <td>56.939999</td>\n",
       "      <td>381.850006</td>\n",
       "    </tr>\n",
       "    <tr>\n",
       "      <td>2021-02-04</td>\n",
       "      <td>34.810001</td>\n",
       "      <td>27.290001</td>\n",
       "      <td>57.500000</td>\n",
       "      <td>386.190002</td>\n",
       "    </tr>\n",
       "  </tbody>\n",
       "</table>\n",
       "<p>253 rows × 4 columns</p>\n",
       "</div>"
      ],
      "text/plain": [
       "                 BOTZ       DRIV       SPYG         SPY\n",
       "Date                                                   \n",
       "2020-02-05  22.389015  15.400795  43.848541  326.757843\n",
       "2020-02-06  22.478771  15.431658  44.145081  327.857330\n",
       "2020-02-07  22.179585  15.132980  43.907845  326.109955\n",
       "2020-02-10  22.518661  15.307209  44.421852  328.544495\n",
       "2020-02-11  22.867712  15.521261  44.382317  329.113861\n",
       "...               ...        ...        ...         ...\n",
       "2021-01-29  33.849998  25.900000  55.040001  370.070007\n",
       "2021-02-01  34.580002  26.600000  56.240002  376.230011\n",
       "2021-02-02  35.070000  26.959999  57.070000  381.549988\n",
       "2021-02-03  34.869999  27.160000  56.939999  381.850006\n",
       "2021-02-04  34.810001  27.290001  57.500000  386.190002\n",
       "\n",
       "[253 rows x 4 columns]"
      ]
     },
     "execution_count": 6,
     "metadata": {},
     "output_type": "execute_result"
    }
   ],
   "source": [
    "etf_prices.columns = etf_list\n",
    "etf_prices.index = pd.to_datetime(etf_prices.index)\n",
    "etf_prices"
   ]
  },
  {
   "cell_type": "markdown",
   "metadata": {},
   "source": [
    "Calculate the percentage return for each day."
   ]
  },
  {
   "cell_type": "code",
   "execution_count": 7,
   "metadata": {},
   "outputs": [
    {
     "data": {
      "text/html": [
       "<div>\n",
       "<style scoped>\n",
       "    .dataframe tbody tr th:only-of-type {\n",
       "        vertical-align: middle;\n",
       "    }\n",
       "\n",
       "    .dataframe tbody tr th {\n",
       "        vertical-align: top;\n",
       "    }\n",
       "\n",
       "    .dataframe thead th {\n",
       "        text-align: right;\n",
       "    }\n",
       "</style>\n",
       "<table border=\"1\" class=\"dataframe\">\n",
       "  <thead>\n",
       "    <tr style=\"text-align: right;\">\n",
       "      <th></th>\n",
       "      <th>BOTZ</th>\n",
       "      <th>DRIV</th>\n",
       "      <th>SPYG</th>\n",
       "      <th>SPY</th>\n",
       "    </tr>\n",
       "    <tr>\n",
       "      <th>Date</th>\n",
       "      <th></th>\n",
       "      <th></th>\n",
       "      <th></th>\n",
       "      <th></th>\n",
       "    </tr>\n",
       "  </thead>\n",
       "  <tbody>\n",
       "    <tr>\n",
       "      <td>2020-02-06</td>\n",
       "      <td>0.004009</td>\n",
       "      <td>0.002004</td>\n",
       "      <td>0.006763</td>\n",
       "      <td>0.003365</td>\n",
       "    </tr>\n",
       "    <tr>\n",
       "      <td>2020-02-07</td>\n",
       "      <td>-0.013310</td>\n",
       "      <td>-0.019355</td>\n",
       "      <td>-0.005374</td>\n",
       "      <td>-0.005330</td>\n",
       "    </tr>\n",
       "    <tr>\n",
       "      <td>2020-02-10</td>\n",
       "      <td>0.015288</td>\n",
       "      <td>0.011513</td>\n",
       "      <td>0.011706</td>\n",
       "      <td>0.007465</td>\n",
       "    </tr>\n",
       "    <tr>\n",
       "      <td>2020-02-11</td>\n",
       "      <td>0.015501</td>\n",
       "      <td>0.013984</td>\n",
       "      <td>-0.000890</td>\n",
       "      <td>0.001733</td>\n",
       "    </tr>\n",
       "    <tr>\n",
       "      <td>2020-02-12</td>\n",
       "      <td>0.005669</td>\n",
       "      <td>0.016677</td>\n",
       "      <td>0.008018</td>\n",
       "      <td>0.006443</td>\n",
       "    </tr>\n",
       "    <tr>\n",
       "      <td>...</td>\n",
       "      <td>...</td>\n",
       "      <td>...</td>\n",
       "      <td>...</td>\n",
       "      <td>...</td>\n",
       "    </tr>\n",
       "    <tr>\n",
       "      <td>2021-01-29</td>\n",
       "      <td>-0.026740</td>\n",
       "      <td>-0.029963</td>\n",
       "      <td>-0.020292</td>\n",
       "      <td>-0.020020</td>\n",
       "    </tr>\n",
       "    <tr>\n",
       "      <td>2021-02-01</td>\n",
       "      <td>0.021566</td>\n",
       "      <td>0.027027</td>\n",
       "      <td>0.021802</td>\n",
       "      <td>0.016646</td>\n",
       "    </tr>\n",
       "    <tr>\n",
       "      <td>2021-02-02</td>\n",
       "      <td>0.014170</td>\n",
       "      <td>0.013534</td>\n",
       "      <td>0.014758</td>\n",
       "      <td>0.014140</td>\n",
       "    </tr>\n",
       "    <tr>\n",
       "      <td>2021-02-03</td>\n",
       "      <td>-0.005703</td>\n",
       "      <td>0.007418</td>\n",
       "      <td>-0.002278</td>\n",
       "      <td>0.000786</td>\n",
       "    </tr>\n",
       "    <tr>\n",
       "      <td>2021-02-04</td>\n",
       "      <td>-0.001721</td>\n",
       "      <td>0.004786</td>\n",
       "      <td>0.009835</td>\n",
       "      <td>0.011366</td>\n",
       "    </tr>\n",
       "  </tbody>\n",
       "</table>\n",
       "<p>252 rows × 4 columns</p>\n",
       "</div>"
      ],
      "text/plain": [
       "                BOTZ      DRIV      SPYG       SPY\n",
       "Date                                              \n",
       "2020-02-06  0.004009  0.002004  0.006763  0.003365\n",
       "2020-02-07 -0.013310 -0.019355 -0.005374 -0.005330\n",
       "2020-02-10  0.015288  0.011513  0.011706  0.007465\n",
       "2020-02-11  0.015501  0.013984 -0.000890  0.001733\n",
       "2020-02-12  0.005669  0.016677  0.008018  0.006443\n",
       "...              ...       ...       ...       ...\n",
       "2021-01-29 -0.026740 -0.029963 -0.020292 -0.020020\n",
       "2021-02-01  0.021566  0.027027  0.021802  0.016646\n",
       "2021-02-02  0.014170  0.013534  0.014758  0.014140\n",
       "2021-02-03 -0.005703  0.007418 -0.002278  0.000786\n",
       "2021-02-04 -0.001721  0.004786  0.009835  0.011366\n",
       "\n",
       "[252 rows x 4 columns]"
      ]
     },
     "execution_count": 7,
     "metadata": {},
     "output_type": "execute_result"
    }
   ],
   "source": [
    "etf_returns = etf_prices.pct_change().dropna()\n",
    "etf_returns"
   ]
  },
  {
   "cell_type": "markdown",
   "metadata": {},
   "source": [
    "Before modeling, plot the graphs to see the return trend for each ETF against S&P500 for the year 2020-2021. "
   ]
  },
  {
   "cell_type": "code",
   "execution_count": 8,
   "metadata": {},
   "outputs": [],
   "source": [
    "x = etf_returns.index\n",
    "y1 = etf_returns.iloc[:,0]\n",
    "y2 = etf_returns.iloc[:,1]\n",
    "y3 = etf_returns.iloc[:,2]\n",
    "y4 = etf_returns.iloc[:,3]"
   ]
  },
  {
   "cell_type": "code",
   "execution_count": 9,
   "metadata": {},
   "outputs": [
    {
     "data": {
      "image/png": "[encoded data removed]",
      "text/plain": [
       "<Figure size 1080x864 with 3 Axes>"
      ]
     },
     "metadata": {
      "needs_background": "light"
     },
     "output_type": "display_data"
    }
   ],
   "source": [
    "plt.subplot(3,1,1)\n",
    "plt.plot(x, y1, label = \"BOTZ\")\n",
    "plt.plot(x, y4, label = \"SPY\")\n",
    "plt.legend()\n",
    "\n",
    "plt.subplot(3,1,2)\n",
    "plt.plot(x, y2, label = \"DRIV\")\n",
    "plt.plot(x, y4, label = \"SPY\")\n",
    "plt.legend()\n",
    "\n",
    "plt.subplot(3,1,3)\n",
    "plt.plot(x, y3, label = \"SPYG\")\n",
    "plt.plot(x, y4, label = \"SPY\")\n",
    "plt.legend()\n",
    "\n",
    "plt.show()"
   ]
  },
  {
   "cell_type": "markdown",
   "metadata": {},
   "source": [
    "The impact of covid19 pandamic can be seen from the graphs. Three ETFs have similar %return trend against S&P 500, while DRIV outperformed the most. "
   ]
  },
  {
   "cell_type": "markdown",
   "metadata": {},
   "source": [
    "Create a function to get the annualized beta of each ETF, against S&P 500 index.  "
   ]
  },
  {
   "cell_type": "code",
   "execution_count": 10,
   "metadata": {},
   "outputs": [],
   "source": [
    "def get_beta(df):\n",
    "    beta_values = []\n",
    "    for y in df:\n",
    "        beta = regr.fit(np.array(df['SPY']).reshape(-1,1),df[y]).coef_\n",
    "        beta_values.append(beta)\n",
    "    return beta_values[:-1]"
   ]
  },
  {
   "cell_type": "code",
   "execution_count": 11,
   "metadata": {},
   "outputs": [
    {
     "data": {
      "text/plain": [
       "[array([1.04168992]), array([1.02530021]), array([1.01953767])]"
      ]
     },
     "execution_count": 11,
     "metadata": {},
     "output_type": "execute_result"
    }
   ],
   "source": [
    "get_beta(etf_returns)"
   ]
  },
  {
   "cell_type": "markdown",
   "metadata": {},
   "source": [
    "Create a function to construct the beta weighting model. The beta portfolio is assigned a target beta of 1.1 for the portfolio. "
   ]
  },
  {
   "cell_type": "code",
   "execution_count": 12,
   "metadata": {},
   "outputs": [],
   "source": [
    "def beta_portfolio(df, b_target):\n",
    "    betas = np.array(get_beta(df))\n",
    "    inc_dec = (b_target - betas)/ b_target\n",
    "    weights = (1/len(betas)) * (1 + inc_dec)\n",
    "    error = np.sum(weights) - 1\n",
    "    adjusted_weights = (weights - (error/len(betas)))\n",
    "    adjusted_weights = pd.DataFrame(adjusted_weights, index = etf_list[:-1],columns = ['Weights'])\n",
    "    return adjusted_weights"
   ]
  },
  {
   "cell_type": "code",
   "execution_count": 13,
   "metadata": {},
   "outputs": [
    {
     "data": {
      "text/html": [
       "<div>\n",
       "<style scoped>\n",
       "    .dataframe tbody tr th:only-of-type {\n",
       "        vertical-align: middle;\n",
       "    }\n",
       "\n",
       "    .dataframe tbody tr th {\n",
       "        vertical-align: top;\n",
       "    }\n",
       "\n",
       "    .dataframe thead th {\n",
       "        text-align: right;\n",
       "    }\n",
       "</style>\n",
       "<table border=\"1\" class=\"dataframe\">\n",
       "  <thead>\n",
       "    <tr style=\"text-align: right;\">\n",
       "      <th></th>\n",
       "      <th>Weights</th>\n",
       "    </tr>\n",
       "  </thead>\n",
       "  <tbody>\n",
       "    <tr>\n",
       "      <td>BOTZ</td>\n",
       "      <td>0.329440</td>\n",
       "    </tr>\n",
       "    <tr>\n",
       "      <td>DRIV</td>\n",
       "      <td>0.334407</td>\n",
       "    </tr>\n",
       "    <tr>\n",
       "      <td>SPYG</td>\n",
       "      <td>0.336153</td>\n",
       "    </tr>\n",
       "  </tbody>\n",
       "</table>\n",
       "</div>"
      ],
      "text/plain": [
       "       Weights\n",
       "BOTZ  0.329440\n",
       "DRIV  0.334407\n",
       "SPYG  0.336153"
      ]
     },
     "execution_count": 13,
     "metadata": {},
     "output_type": "execute_result"
    }
   ],
   "source": [
    "weights = beta_portfolio(etf_returns,1.1)\n",
    "weights"
   ]
  },
  {
   "cell_type": "markdown",
   "metadata": {},
   "source": [
    "Create a mean variance optimization model. "
   ]
  },
  {
   "cell_type": "code",
   "execution_count": 14,
   "metadata": {},
   "outputs": [
    {
     "data": {
      "text/html": [
       "<div>\n",
       "<style scoped>\n",
       "    .dataframe tbody tr th:only-of-type {\n",
       "        vertical-align: middle;\n",
       "    }\n",
       "\n",
       "    .dataframe tbody tr th {\n",
       "        vertical-align: top;\n",
       "    }\n",
       "\n",
       "    .dataframe thead th {\n",
       "        text-align: right;\n",
       "    }\n",
       "</style>\n",
       "<table border=\"1\" class=\"dataframe\">\n",
       "  <thead>\n",
       "    <tr style=\"text-align: right;\">\n",
       "      <th></th>\n",
       "      <th>BOTZ</th>\n",
       "      <th>DRIV</th>\n",
       "      <th>SPYG</th>\n",
       "    </tr>\n",
       "    <tr>\n",
       "      <th>Date</th>\n",
       "      <th></th>\n",
       "      <th></th>\n",
       "      <th></th>\n",
       "    </tr>\n",
       "  </thead>\n",
       "  <tbody>\n",
       "    <tr>\n",
       "      <td>2020-02-05</td>\n",
       "      <td>22.389015</td>\n",
       "      <td>15.400795</td>\n",
       "      <td>43.848541</td>\n",
       "    </tr>\n",
       "    <tr>\n",
       "      <td>2020-02-06</td>\n",
       "      <td>22.478771</td>\n",
       "      <td>15.431658</td>\n",
       "      <td>44.145081</td>\n",
       "    </tr>\n",
       "    <tr>\n",
       "      <td>2020-02-07</td>\n",
       "      <td>22.179585</td>\n",
       "      <td>15.132980</td>\n",
       "      <td>43.907845</td>\n",
       "    </tr>\n",
       "    <tr>\n",
       "      <td>2020-02-10</td>\n",
       "      <td>22.518661</td>\n",
       "      <td>15.307209</td>\n",
       "      <td>44.421852</td>\n",
       "    </tr>\n",
       "    <tr>\n",
       "      <td>2020-02-11</td>\n",
       "      <td>22.867712</td>\n",
       "      <td>15.521261</td>\n",
       "      <td>44.382317</td>\n",
       "    </tr>\n",
       "    <tr>\n",
       "      <td>...</td>\n",
       "      <td>...</td>\n",
       "      <td>...</td>\n",
       "      <td>...</td>\n",
       "    </tr>\n",
       "    <tr>\n",
       "      <td>2021-01-29</td>\n",
       "      <td>33.849998</td>\n",
       "      <td>25.900000</td>\n",
       "      <td>55.040001</td>\n",
       "    </tr>\n",
       "    <tr>\n",
       "      <td>2021-02-01</td>\n",
       "      <td>34.580002</td>\n",
       "      <td>26.600000</td>\n",
       "      <td>56.240002</td>\n",
       "    </tr>\n",
       "    <tr>\n",
       "      <td>2021-02-02</td>\n",
       "      <td>35.070000</td>\n",
       "      <td>26.959999</td>\n",
       "      <td>57.070000</td>\n",
       "    </tr>\n",
       "    <tr>\n",
       "      <td>2021-02-03</td>\n",
       "      <td>34.869999</td>\n",
       "      <td>27.160000</td>\n",
       "      <td>56.939999</td>\n",
       "    </tr>\n",
       "    <tr>\n",
       "      <td>2021-02-04</td>\n",
       "      <td>34.810001</td>\n",
       "      <td>27.290001</td>\n",
       "      <td>57.500000</td>\n",
       "    </tr>\n",
       "  </tbody>\n",
       "</table>\n",
       "<p>253 rows × 3 columns</p>\n",
       "</div>"
      ],
      "text/plain": [
       "                 BOTZ       DRIV       SPYG\n",
       "Date                                       \n",
       "2020-02-05  22.389015  15.400795  43.848541\n",
       "2020-02-06  22.478771  15.431658  44.145081\n",
       "2020-02-07  22.179585  15.132980  43.907845\n",
       "2020-02-10  22.518661  15.307209  44.421852\n",
       "2020-02-11  22.867712  15.521261  44.382317\n",
       "...               ...        ...        ...\n",
       "2021-01-29  33.849998  25.900000  55.040001\n",
       "2021-02-01  34.580002  26.600000  56.240002\n",
       "2021-02-02  35.070000  26.959999  57.070000\n",
       "2021-02-03  34.869999  27.160000  56.939999\n",
       "2021-02-04  34.810001  27.290001  57.500000\n",
       "\n",
       "[253 rows x 3 columns]"
      ]
     },
     "execution_count": 14,
     "metadata": {},
     "output_type": "execute_result"
    }
   ],
   "source": [
    "etfs = etf_prices.iloc[:,:-1]\n",
    "etfs"
   ]
  },
  {
   "cell_type": "code",
   "execution_count": 15,
   "metadata": {},
   "outputs": [
    {
     "data": {
      "text/plain": [
       "array([0.33333333, 0.33333333, 0.33333333])"
      ]
     },
     "execution_count": 15,
     "metadata": {},
     "output_type": "execute_result"
    }
   ],
   "source": [
    "mean_weights = np.array([1/len(etfs.columns)] * len(etfs.columns))\n",
    "mean_weights"
   ]
  },
  {
   "cell_type": "code",
   "execution_count": 16,
   "metadata": {},
   "outputs": [
    {
     "data": {
      "text/html": [
       "<div>\n",
       "<style scoped>\n",
       "    .dataframe tbody tr th:only-of-type {\n",
       "        vertical-align: middle;\n",
       "    }\n",
       "\n",
       "    .dataframe tbody tr th {\n",
       "        vertical-align: top;\n",
       "    }\n",
       "\n",
       "    .dataframe thead th {\n",
       "        text-align: right;\n",
       "    }\n",
       "</style>\n",
       "<table border=\"1\" class=\"dataframe\">\n",
       "  <thead>\n",
       "    <tr style=\"text-align: right;\">\n",
       "      <th></th>\n",
       "      <th>BOTZ</th>\n",
       "      <th>DRIV</th>\n",
       "      <th>SPYG</th>\n",
       "    </tr>\n",
       "    <tr>\n",
       "      <th>Date</th>\n",
       "      <th></th>\n",
       "      <th></th>\n",
       "      <th></th>\n",
       "    </tr>\n",
       "  </thead>\n",
       "  <tbody>\n",
       "    <tr>\n",
       "      <td>2020-02-05</td>\n",
       "      <td>NaN</td>\n",
       "      <td>NaN</td>\n",
       "      <td>NaN</td>\n",
       "    </tr>\n",
       "    <tr>\n",
       "      <td>2020-02-06</td>\n",
       "      <td>0.004001</td>\n",
       "      <td>0.002002</td>\n",
       "      <td>0.006740</td>\n",
       "    </tr>\n",
       "    <tr>\n",
       "      <td>2020-02-07</td>\n",
       "      <td>-0.013399</td>\n",
       "      <td>-0.019545</td>\n",
       "      <td>-0.005388</td>\n",
       "    </tr>\n",
       "    <tr>\n",
       "      <td>2020-02-10</td>\n",
       "      <td>0.015172</td>\n",
       "      <td>0.011447</td>\n",
       "      <td>0.011639</td>\n",
       "    </tr>\n",
       "    <tr>\n",
       "      <td>2020-02-11</td>\n",
       "      <td>0.015382</td>\n",
       "      <td>0.013887</td>\n",
       "      <td>-0.000890</td>\n",
       "    </tr>\n",
       "    <tr>\n",
       "      <td>...</td>\n",
       "      <td>...</td>\n",
       "      <td>...</td>\n",
       "      <td>...</td>\n",
       "    </tr>\n",
       "    <tr>\n",
       "      <td>2021-01-29</td>\n",
       "      <td>-0.027104</td>\n",
       "      <td>-0.030421</td>\n",
       "      <td>-0.020501</td>\n",
       "    </tr>\n",
       "    <tr>\n",
       "      <td>2021-02-01</td>\n",
       "      <td>0.021337</td>\n",
       "      <td>0.026668</td>\n",
       "      <td>0.021568</td>\n",
       "    </tr>\n",
       "    <tr>\n",
       "      <td>2021-02-02</td>\n",
       "      <td>0.014071</td>\n",
       "      <td>0.013443</td>\n",
       "      <td>0.014650</td>\n",
       "    </tr>\n",
       "    <tr>\n",
       "      <td>2021-02-03</td>\n",
       "      <td>-0.005719</td>\n",
       "      <td>0.007391</td>\n",
       "      <td>-0.002281</td>\n",
       "    </tr>\n",
       "    <tr>\n",
       "      <td>2021-02-04</td>\n",
       "      <td>-0.001722</td>\n",
       "      <td>0.004775</td>\n",
       "      <td>0.009787</td>\n",
       "    </tr>\n",
       "  </tbody>\n",
       "</table>\n",
       "<p>253 rows × 3 columns</p>\n",
       "</div>"
      ],
      "text/plain": [
       "                BOTZ      DRIV      SPYG\n",
       "Date                                    \n",
       "2020-02-05       NaN       NaN       NaN\n",
       "2020-02-06  0.004001  0.002002  0.006740\n",
       "2020-02-07 -0.013399 -0.019545 -0.005388\n",
       "2020-02-10  0.015172  0.011447  0.011639\n",
       "2020-02-11  0.015382  0.013887 -0.000890\n",
       "...              ...       ...       ...\n",
       "2021-01-29 -0.027104 -0.030421 -0.020501\n",
       "2021-02-01  0.021337  0.026668  0.021568\n",
       "2021-02-02  0.014071  0.013443  0.014650\n",
       "2021-02-03 -0.005719  0.007391 -0.002281\n",
       "2021-02-04 -0.001722  0.004775  0.009787\n",
       "\n",
       "[253 rows x 3 columns]"
      ]
     },
     "execution_count": 16,
     "metadata": {},
     "output_type": "execute_result"
    }
   ],
   "source": [
    "log_ret = np.log(etfs /etfs.shift(1))\n",
    "log_ret"
   ]
  },
  {
   "cell_type": "code",
   "execution_count": 17,
   "metadata": {},
   "outputs": [
    {
     "data": {
      "text/plain": [
       "BOTZ    0.001751\n",
       "DRIV    0.002270\n",
       "SPYG    0.001076\n",
       "dtype: float64"
      ]
     },
     "execution_count": 17,
     "metadata": {},
     "output_type": "execute_result"
    }
   ],
   "source": [
    "log_ret.mean()"
   ]
  },
  {
   "cell_type": "code",
   "execution_count": 18,
   "metadata": {},
   "outputs": [],
   "source": [
    "def ret_vol_sr(weights):\n",
    "    ret = np.sum(weights * log_ret.mean()) * 252\n",
    "    vol = np.sqrt(np.dot(weights.T, np.dot(log_ret.cov() * 252, weights)))\n",
    "    sr = ret / vol\n",
    "    return np.array([ret, vol, sr])"
   ]
  },
  {
   "cell_type": "code",
   "execution_count": 19,
   "metadata": {},
   "outputs": [
    {
     "data": {
      "text/plain": [
       "array([0.42815968, 0.36202075, 1.18269375])"
      ]
     },
     "execution_count": 19,
     "metadata": {},
     "output_type": "execute_result"
    }
   ],
   "source": [
    "ret_vol_sr(mean_weights)"
   ]
  },
  {
   "cell_type": "code",
   "execution_count": 20,
   "metadata": {},
   "outputs": [],
   "source": [
    "def neg_sharpe(weights):\n",
    "    return ret_vol_sr(weights)[2] * -1"
   ]
  },
  {
   "cell_type": "code",
   "execution_count": 21,
   "metadata": {},
   "outputs": [
    {
     "data": {
      "text/plain": [
       "-1.1826937468204333"
      ]
     },
     "execution_count": 21,
     "metadata": {},
     "output_type": "execute_result"
    }
   ],
   "source": [
    "neg_sharpe(mean_weights)"
   ]
  },
  {
   "cell_type": "code",
   "execution_count": 22,
   "metadata": {},
   "outputs": [],
   "source": [
    "bounds = ((0,1),(0,1),(0,1))\n",
    "\n",
    "cons = ({'type':'eq', 'fun': lambda x: np.sum(x) -1})"
   ]
  },
  {
   "cell_type": "code",
   "execution_count": 23,
   "metadata": {},
   "outputs": [],
   "source": [
    "guess = [0.33, 0.33, 0.33]"
   ]
  },
  {
   "cell_type": "code",
   "execution_count": 24,
   "metadata": {},
   "outputs": [],
   "source": [
    "opt_weights = minimize(neg_sharpe, guess, method = 'SLSQP', bounds = bounds, constraints = cons)"
   ]
  },
  {
   "cell_type": "code",
   "execution_count": 25,
   "metadata": {},
   "outputs": [
    {
     "data": {
      "text/plain": [
       "     fun: -1.4373862578004275\n",
       "     jac: array([ 9.24984962e-02, -1.49011612e-08,  4.09521997e-01])\n",
       " message: 'Optimization terminated successfully.'\n",
       "    nfev: 20\n",
       "     nit: 4\n",
       "    njev: 4\n",
       "  status: 0\n",
       " success: True\n",
       "       x: array([1.66533454e-16, 1.00000000e+00, 0.00000000e+00])"
      ]
     },
     "execution_count": 25,
     "metadata": {},
     "output_type": "execute_result"
    }
   ],
   "source": [
    "opt_weights"
   ]
  },
  {
   "cell_type": "code",
   "execution_count": 26,
   "metadata": {},
   "outputs": [
    {
     "data": {
      "text/plain": [
       "array([1.66533454e-16, 1.00000000e+00, 0.00000000e+00])"
      ]
     },
     "execution_count": 26,
     "metadata": {},
     "output_type": "execute_result"
    }
   ],
   "source": [
    "opt_weights.x"
   ]
  },
  {
   "cell_type": "code",
   "execution_count": 27,
   "metadata": {},
   "outputs": [
    {
     "data": {
      "text/plain": [
       "array([0.57210124, 0.39801496, 1.43738626])"
      ]
     },
     "execution_count": 27,
     "metadata": {},
     "output_type": "execute_result"
    }
   ],
   "source": [
    "ret_vol_sr(opt_weights.x)"
   ]
  },
  {
   "cell_type": "code",
   "execution_count": 28,
   "metadata": {},
   "outputs": [
    {
     "data": {
      "text/html": [
       "<div>\n",
       "<style scoped>\n",
       "    .dataframe tbody tr th:only-of-type {\n",
       "        vertical-align: middle;\n",
       "    }\n",
       "\n",
       "    .dataframe tbody tr th {\n",
       "        vertical-align: top;\n",
       "    }\n",
       "\n",
       "    .dataframe thead th {\n",
       "        text-align: right;\n",
       "    }\n",
       "</style>\n",
       "<table border=\"1\" class=\"dataframe\">\n",
       "  <thead>\n",
       "    <tr style=\"text-align: right;\">\n",
       "      <th></th>\n",
       "      <th>weights</th>\n",
       "    </tr>\n",
       "  </thead>\n",
       "  <tbody>\n",
       "    <tr>\n",
       "      <td>0</td>\n",
       "      <td>1.665335e-16</td>\n",
       "    </tr>\n",
       "    <tr>\n",
       "      <td>1</td>\n",
       "      <td>1.000000e+00</td>\n",
       "    </tr>\n",
       "    <tr>\n",
       "      <td>2</td>\n",
       "      <td>0.000000e+00</td>\n",
       "    </tr>\n",
       "  </tbody>\n",
       "</table>\n",
       "</div>"
      ],
      "text/plain": [
       "        weights\n",
       "0  1.665335e-16\n",
       "1  1.000000e+00\n",
       "2  0.000000e+00"
      ]
     },
     "execution_count": 28,
     "metadata": {},
     "output_type": "execute_result"
    }
   ],
   "source": [
    "df = pd.DataFrame(opt_weights.x, columns=['weights'])\n",
    "df"
   ]
  },
  {
   "cell_type": "code",
   "execution_count": null,
   "metadata": {},
   "outputs": [],
   "source": []
  }
 ],
 "metadata": {
  "kernelspec": {
   "display_name": "Python 3",
   "language": "python",
   "name": "python3"
  },
  "language_info": {
   "codemirror_mode": {
    "name": "ipython",
    "version": 3
   },
   "file_extension": ".py",
   "mimetype": "text/x-python",
   "name": "python",
   "nbconvert_exporter": "python",
   "pygments_lexer": "ipython3",
   "version": "3.7.4"
  }
 },
 "nbformat": 4,
 "nbformat_minor": 4
}
